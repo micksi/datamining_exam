{
 "cells": [
  {
   "cell_type": "code",
   "execution_count": 2,
   "metadata": {
    "collapsed": true
   },
   "outputs": [],
   "source": [
    "import sys\n",
    "import pandas as pd\n",
    "import csv\n",
    "from sklearn import preprocessing\n",
    "from sklearn.neighbors import NearestNeighbors\n",
    "import Orange\n",
    "\n",
    "def get_user_profile(user_id, df_rating, df_a_fatures):\n",
    "    df_user = df_rating.loc[df_rating['user_id'] == user_id]\n",
    "    df_merged = pd.merge(df_user, df_a_fatures, how='left', left_on='anime_id', right_on='anime_id').drop(['anime_id', 'rating'], axis=1)\n",
    "    \n",
    "    # Count only 1's\n",
    "    df_user_sum = df_merged.apply(pd.Series.value_counts).loc[df_merged.index == 1]\n",
    "    df_user_sum.fillna(0, inplace = True)\n",
    "    df_user_sum.user_id = user_id\n",
    "    return df_user_sum\n",
    "#\n",
    "def get_user_profiles(df_animes_vector, df_rating):\n",
    "    # first n users\n",
    "    n_users = 50\n",
    "    users = list(df_rating['user_id'].unique())[:n_users] \n",
    "\n",
    "    # Create user profiles:\n",
    "    df_user_profiles = pd.DataFrame()\n",
    "    for u in users:\n",
    "        u_prof = get_user_profile(u, df_rating, df_animes_vector)\n",
    "        df_user_profiles = df_user_profiles.append(u_prof, ignore_index = True)\n",
    "    return df_user_profiles\n",
    "#\n",
    "def normalize(df_user_profiles):\n",
    "    x = df_user_profiles.iloc[:,1:].values #returns a numpy array\n",
    "    min_max_scaler = preprocessing.MinMaxScaler()\n",
    "    x_scaled = min_max_scaler.fit_transform(x.T)\n",
    "    df_user_profiles = pd.concat([df_user_profiles['user_id'], pd.DataFrame(x_scaled.T, columns=df_user_profiles.columns[1:])], axis=1)\n",
    "    return df_user_profiles\n",
    "#\n",
    "def get_userids_by_indices(indices, df_user_prof_norm):\n",
    "    users = []\n",
    "    for i in indices:\n",
    "       uid = df_user_prof_norm.loc[i]['user_id']\n",
    "       users.append(uid)\n",
    "    return users    \n",
    "#\n",
    "\n"
   ]
  },
  {
   "cell_type": "code",
   "execution_count": 3,
   "metadata": {
    "collapsed": true
   },
   "outputs": [],
   "source": [
    "file_anime = \"../anime.csv\"\n",
    "file_rating = \"../rating.csv\"\n",
    "\n",
    "df_rating = pd.read_csv(file_rating)\n",
    "df_animes = pd.read_csv(file_anime)\n",
    "df_animes_genres = pd.get_dummies(df_animes['genre'].str.get_dummies(sep=\", \")) # creates genre vectors\n",
    "df_animes_vector = pd.concat([df_animes['anime_id'], df_animes_genres], axis=1) # anime_id + genre vector\n",
    "\n",
    "# Get user profiles; then normalize \n",
    "df_user_profiles = get_user_profiles(df_animes_vector, df_rating)\n",
    "df_user_prof_norm = normalize(df_user_profiles)"
   ]
  },
  {
   "cell_type": "code",
   "execution_count": 4,
   "metadata": {},
   "outputs": [
    {
     "name": "stdout",
     "output_type": "stream",
     "text": [
      "[1.0, 27.0, 26.0, 7.0, 14.0, 41.0, 8.0, 31.0, 5.0, 25.0]\n"
     ]
    }
   ],
   "source": [
    "# find closest k user profiles\n",
    "k = 10\n",
    "nbrs = NearestNeighbors(n_neighbors=k, algorithm='ball_tree').fit(df_user_prof_norm.iloc[:,1:])\n",
    "user_id = 1\n",
    "user_prof = df_user_prof_norm[df_user_prof_norm['user_id'] == user_id]\n",
    "user_prof = user_prof.drop('user_id', axis=1)\n",
    "\n",
    "# Get closest neighbours\n",
    "distances, indices = nbrs.kneighbors(user_prof)\n",
    "\n",
    "# get user_ids\n",
    "uids = get_userids_by_indices(indices[0], df_user_prof_norm)\n",
    "print uids"
   ]
  },
  {
   "cell_type": "code",
   "execution_count": 19,
   "metadata": {
    "collapsed": true
   },
   "outputs": [],
   "source": [
    "u_animes = []\n",
    "for uid in uids:\n",
    "    u_animes.append(df_rating[df_rating['user_id'] == uid]['anime_id'].tolist())\n",
    "# with open('anime_trans.csv', 'wb') as csvfile:\n",
    "#     writer = csv.writer(csvfile)\n",
    "#     writer.writerows(u_animes)  \n",
    "df = pd.DataFrame(u_animes)\n",
    "df.to_csv('anime_trans.basket', index=False, header=False)"
   ]
  },
  {
   "cell_type": "code",
   "execution_count": 68,
   "metadata": {
    "scrolled": true
   },
   "outputs": [
    {
     "name": "stdout",
     "output_type": "stream",
     "text": [
      "Supp Conf  Rule\n",
      "0.70  0.9  [], {\"15583.0\":1.000} [], {\"11757.0\":1.000}\n",
      "0.70  0.9  [], {\"11757.0\":1.000} [], {\"15583.0\":1.000}\n",
      "0.70  0.9  [], {\"15583.0\":1.000} [], {\"11757.0\":1.000, \"9041.0\":1.000}\n",
      "0.70  1.0  [], {\"15583.0\":1.000, \"11757.0\":1.000} [], {\"9041.0\":1.000}\n",
      "0.70  1.0  [], {\"15583.0\":1.000, \"9041.0\":1.000} [], {\"11757.0\":1.000}\n",
      "0.70  0.9  [], {\"11757.0\":1.000} [], {\"15583.0\":1.000, \"9041.0\":1.000}\n",
      "0.70  1.0  [], {\"11757.0\":1.000, \"9041.0\":1.000} [], {\"15583.0\":1.000}\n",
      "0.70  1.0  [], {\"9041.0\":1.000} [], {\"15583.0\":1.000, \"11757.0\":1.000}\n",
      "0.70  0.9  [], {\"15583.0\":1.000} [], {\"9919.0\":1.000}\n",
      "0.70  1.0  [], {\"9919.0\":1.000} [], {\"15583.0\":1.000}\n",
      "0.70  0.9  [], {\"15583.0\":1.000} [], {\"9919.0\":1.000, \"6547.0\":1.000}\n",
      "0.70  1.0  [], {\"15583.0\":1.000, \"9919.0\":1.000} [], {\"6547.0\":1.000}\n",
      "0.70  1.0  [], {\"15583.0\":1.000, \"6547.0\":1.000} [], {\"9919.0\":1.000}\n",
      "0.70  1.0  [], {\"9919.0\":1.000} [], {\"15583.0\":1.000, \"6547.0\":1.000}\n",
      "0.70  1.0  [], {\"9919.0\":1.000, \"6547.0\":1.000} [], {\"15583.0\":1.000}\n",
      "0.70  1.0  [], {\"6547.0\":1.000} [], {\"15583.0\":1.000, \"9919.0\":1.000}\n",
      "0.70  0.9  [], {\"15583.0\":1.000} [], {\"9041.0\":1.000}\n",
      "0.70  1.0  [], {\"9041.0\":1.000} [], {\"15583.0\":1.000}\n",
      "0.70  0.9  [], {\"15583.0\":1.000} [], {\"8525.0\":1.000}\n",
      "0.70  1.0  [], {\"8525.0\":1.000} [], {\"15583.0\":1.000}\n",
      "0.70  0.9  [], {\"15583.0\":1.000} [], {\"6547.0\":1.000}\n",
      "0.70  1.0  [], {\"6547.0\":1.000} [], {\"15583.0\":1.000}\n",
      "0.70  0.9  [], {\"11757.0\":1.000} [], {\"10080.0\":1.000}\n",
      "0.70  1.0  [], {\"10080.0\":1.000} [], {\"11757.0\":1.000}\n",
      "0.70  0.9  [], {\"11757.0\":1.000} [], {\"9041.0\":1.000}\n",
      "0.70  1.0  [], {\"9041.0\":1.000} [], {\"11757.0\":1.000}\n",
      "0.70  1.0  [], {\"9919.0\":1.000} [], {\"6547.0\":1.000}\n",
      "0.70  1.0  [], {\"6547.0\":1.000} [], {\"9919.0\":1.000}\n"
     ]
    }
   ],
   "source": [
    "# Orange.associate.AssociationRulesInducer.max_item_sets = 20000\n",
    "data = Orange.data.Table(\"anime_trans.basket\") #Orange.data.Table(\"anime_trans.basket\")\n",
    "\n",
    "rules = Orange.associate.AssociationRulesSparseInducer(data, support = 0.7, confidence = 0.6,\n",
    "                                                       max_item_sets = 1000000)\n",
    "print \"%4s %4s  %s\" % (\"Supp\", \"Conf\", \"Rule\")\n",
    "for r in rules:\n",
    "    print \"%4.2f %4.1f  %s %s\" % (r.support, r.confidence, r.left, r.right)\n",
    "# Orange.associate.AssociationRulesSparseInducer.get_itemsets(rules)"
   ]
  },
  {
   "cell_type": "code",
   "execution_count": 70,
   "metadata": {},
   "outputs": [
    {
     "name": "stdout",
     "output_type": "stream",
     "text": [
      "15583.0 -> 11757.0\n",
      "11757.0 -> 15583.0\n",
      "15583.0 -> 11757.0 9041.0\n",
      "15583.0 11757.0 -> 9041.0\n",
      "15583.0 9041.0 -> 11757.0\n",
      "11757.0 -> 15583.0 9041.0\n",
      "11757.0 9041.0 -> 15583.0\n",
      "9041.0 -> 15583.0 11757.0\n",
      "15583.0 -> 9919.0\n",
      "9919.0 -> 15583.0\n",
      "15583.0 -> 9919.0 6547.0\n",
      "15583.0 9919.0 -> 6547.0\n",
      "15583.0 6547.0 -> 9919.0\n",
      "9919.0 -> 15583.0 6547.0\n",
      "9919.0 6547.0 -> 15583.0\n",
      "6547.0 -> 15583.0 9919.0\n",
      "15583.0 -> 9041.0\n",
      "9041.0 -> 15583.0\n",
      "15583.0 -> 8525.0\n",
      "8525.0 -> 15583.0\n",
      "15583.0 -> 6547.0\n",
      "6547.0 -> 15583.0\n",
      "11757.0 -> 10080.0\n",
      "10080.0 -> 11757.0\n",
      "11757.0 -> 9041.0\n",
      "9041.0 -> 11757.0\n",
      "9919.0 -> 6547.0\n",
      "6547.0 -> 9919.0\n"
     ]
    }
   ],
   "source": [
    "Orange.associate.print_rules(rules\n",
    "                            )"
   ]
  },
  {
   "cell_type": "code",
   "execution_count": null,
   "metadata": {
    "collapsed": true
   },
   "outputs": [],
   "source": []
  }
 ],
 "metadata": {
  "kernelspec": {
   "display_name": "Python 2",
   "language": "python",
   "name": "python2"
  },
  "language_info": {
   "codemirror_mode": {
    "name": "ipython",
    "version": 2
   },
   "file_extension": ".py",
   "mimetype": "text/x-python",
   "name": "python",
   "nbconvert_exporter": "python",
   "pygments_lexer": "ipython2",
   "version": "2.7.11"
  }
 },
 "nbformat": 4,
 "nbformat_minor": 2
}
