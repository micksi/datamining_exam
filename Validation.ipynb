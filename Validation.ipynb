{
 "cells": [
  {
   "cell_type": "code",
   "execution_count": 1,
   "metadata": {
    "collapsed": true
   },
   "outputs": [],
   "source": [
    "import numpy as np\n",
    "import pandas as pd\n",
    "import scipy"
   ]
  },
  {
   "cell_type": "code",
   "execution_count": 5,
   "metadata": {
    "collapsed": true
   },
   "outputs": [],
   "source": [
    "test_rating = pd.io.parsers.read_csv('raw/rating_test.csv')"
   ]
  },
  {
   "cell_type": "code",
   "execution_count": null,
   "metadata": {
    "collapsed": true
   },
   "outputs": [],
   "source": [
    "collaborative = pd.io.parsers.read_csv('collaborative.csv')\n",
    "content = pd.io.parsers.read_csv('content.csv')"
   ]
  },
  {
   "cell_type": "code",
   "execution_count": null,
   "metadata": {
    "collapsed": true
   },
   "outputs": [],
   "source": [
    "user_ids = list(test_rating['user_id'].unique())\n",
    "user_results = pd.DataFrame()\n",
    "\n",
    "for user_id in user_ids:\n",
    "    # Get the results of the collaborative filtering recommendations\n",
    "    recommendations_cf = collaborative[collaborative['user_id']==user_id].tolist()\n",
    "    recommendations_cf = set(recommendations_cf)\n",
    "    \n",
    "    # Get the results of the content based recommendations\n",
    "    recommendations_cb = content[content['user_id']==user_id].tolist()\n",
    "    recommendations_cb = set(recommendations_cb)\n",
    "    \n",
    "    # Get the test sample for the user\n",
    "    watched_animes = test_rating['anime_id'][test_rating['user_id']].tolist()\n",
    "    watched_animes = set(watched_animes)\n",
    "    \n",
    "    union = recommendations_cf.union(recommendations_cb)\n",
    "    inter = recommendations_cf.intersection(recommendations_cb)\n",
    "    \n",
    "    # Get the denominator for the collaborative filtering and content based recommendations\n",
    "    if len(watched_animes) > 10:\n",
    "        denom = 10\n",
    "    else:\n",
    "        denom = len(watched_animes)\n",
    "        \n",
    "    # Get the 4 results for each user: number of matches for cf, cb, union and intersection\n",
    "    res_cf = len(recommendations_cf.intersection(watched_animes)) * 1.0 / denom\n",
    "    res_cb = len(recommendations_cb.intersection(watched_animes)) * 1.0 / denom\n",
    "    res_union = len(union.intersection(watched_animes)) * 1.0 / min(len(union), len(watched_animes))\n",
    "    res_intersection = len(inter.intersection(watched_animes)) * 1.0 / min(len(inter), len(watched_animes))"
   ]
  },
  {
   "cell_type": "code",
   "execution_count": 13,
   "metadata": {
    "collapsed": false
   },
   "outputs": [],
   "source": [
    "abc = pd.DataFrame(index=[\"user_id\", \"cf\", \"cb\", \"union\", \"intersection\"])"
   ]
  },
  {
   "cell_type": "code",
   "execution_count": 14,
   "metadata": {
    "collapsed": false
   },
   "outputs": [
    {
     "data": {
      "text/plain": [
       "Index([], dtype='object')"
      ]
     },
     "execution_count": 14,
     "metadata": {},
     "output_type": "execute_result"
    }
   ],
   "source": [
    "abc.columns"
   ]
  },
  {
   "cell_type": "code",
   "execution_count": null,
   "metadata": {
    "collapsed": true
   },
   "outputs": [],
   "source": []
  }
 ],
 "metadata": {
  "kernelspec": {
   "display_name": "Python 2",
   "language": "python",
   "name": "python2"
  },
  "language_info": {
   "codemirror_mode": {
    "name": "ipython",
    "version": 2
   },
   "file_extension": ".py",
   "mimetype": "text/x-python",
   "name": "python",
   "nbconvert_exporter": "python",
   "pygments_lexer": "ipython2",
   "version": "2.7.13"
  }
 },
 "nbformat": 4,
 "nbformat_minor": 2
}
