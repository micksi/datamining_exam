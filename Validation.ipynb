{
 "cells": [
  {
   "cell_type": "code",
   "execution_count": 85,
   "metadata": {
    "collapsed": true
   },
   "outputs": [],
   "source": [
    "import numpy as np\n",
    "import pandas as pd\n",
    "import scipy\n",
    "import matplotlib.pyplot as plt"
   ]
  },
  {
   "cell_type": "code",
   "execution_count": 7,
   "metadata": {
    "collapsed": true
   },
   "outputs": [],
   "source": [
    "test_rating = pd.io.parsers.read_csv('raw/rating_test.csv')"
   ]
  },
  {
   "cell_type": "code",
   "execution_count": 8,
   "metadata": {
    "collapsed": false
   },
   "outputs": [],
   "source": [
    "content = pd.io.parsers.read_csv('content_recommendations.csv')\n",
    "content['recs'] = content['recs'].apply(lambda s: map(lambda _s: _s.replace(\"'\",\"\").strip(), s[1:-1].split(',')) )"
   ]
  },
  {
   "cell_type": "code",
   "execution_count": 9,
   "metadata": {
    "collapsed": false
   },
   "outputs": [],
   "source": [
    "collaborative = pd.io.parsers.read_csv('collaborative_recommendations.csv')\n",
    "collaborative['recs'] = collaborative['recs'].apply(lambda s: map(lambda _s: _s.replace(\"'\",\"\").strip(), s[1:-1].split(',')) )\n",
    "collaborative['size'] = collaborative['recs'].apply(lambda l: len(l))\n",
    "collaborative = collaborative.loc[collaborative['size'] == 10]"
   ]
  },
  {
   "cell_type": "code",
   "execution_count": 93,
   "metadata": {
    "collapsed": false,
    "scrolled": false
   },
   "outputs": [
    {
     "name": "stdout",
     "output_type": "stream",
     "text": [
      "set([120, 249, 317, 1535])\n",
      "[249, 2707, 4997, 5231, 12175, 15059, 15783, 20045, 21595, 31289]\n",
      "[121, 164, 199, 430, 512, 513, 528, 1117, 1118, 1943]\n"
     ]
    },
    {
     "data": {
      "text/html": [
       "<div>\n",
       "<table border=\"1\" class=\"dataframe\">\n",
       "  <thead>\n",
       "    <tr style=\"text-align: right;\">\n",
       "      <th></th>\n",
       "      <th>user_id</th>\n",
       "      <th>res_cb</th>\n",
       "      <th>res_cf</th>\n",
       "      <th>res_union</th>\n",
       "      <th>res_inter</th>\n",
       "    </tr>\n",
       "  </thead>\n",
       "  <tbody>\n",
       "  </tbody>\n",
       "</table>\n",
       "</div>"
      ],
      "text/plain": [
       "Empty DataFrame\n",
       "Columns: [user_id, res_cb, res_cf, res_union, res_inter]\n",
       "Index: []"
      ]
     },
     "execution_count": 93,
     "metadata": {},
     "output_type": "execute_result"
    }
   ],
   "source": [
    "user_ids = list(collaborative['user_id'].unique())\n",
    "user_results = pd.DataFrame(columns=('user_id','res_cb', 'res_cf', 'res_union'))\n",
    "\n",
    "for user_id in user_ids:\n",
    "    # Get the results of the collaborative filtering recommendations\n",
    "    recommendations_cf = collaborative[collaborative['user_id']==user_id]['recs'].tolist()[0]\n",
    "    recommendations_cf = set(map(lambda x: int(x), recommendations_cf))\n",
    "    \n",
    "    # print(recommendations_cf)\n",
    "    # Get the results of the content based recommendations\n",
    "    recommendations_cb = content[content['user_id']==user_id]['recs'].tolist()[0]\n",
    "    recommendations_cb = set(map(lambda x: int(x), recommendations_cb))\n",
    "    # print(recommendations_cb)\n",
    "    # Get the test sample for the user\n",
    "    watched_animes = test_rating['anime_id'][test_rating['user_id'] == user_id].astype(int).tolist()\n",
    "    watched_animes = set(watched_animes)\n",
    "    \n",
    "    \n",
    "    union = recommendations_cf.union(recommendations_cb)\n",
    "    inter = recommendations_cf.intersection(recommendations_cb)\n",
    "    \n",
    "    # Get the denominator for the collaborative filtering and content based recommendations\n",
    "    if len(watched_animes) > 10:\n",
    "        denom = 10\n",
    "    else:\n",
    "        denom = len(watched_animes)\n",
    "    \n",
    "    if user_id == 32:\n",
    "        print watched_animes\n",
    "        print sorted(recommendations_cb)\n",
    "        print sorted(recommendations_cf)\n",
    "    \n",
    "    # Get the 4 results for each user: number of matches for cf, cb, union and intersection\n",
    "    res_cf = len(watched_animes.intersection(recommendations_cf)) #* 1.0 / denom\n",
    "    res_cb = len(recommendations_cb.intersection(watched_animes)) #* 1.0 / denom\n",
    "    res_union = len(union.intersection(watched_animes)) * 1.0 / min(len(union), len(watched_animes))\n",
    "    if min(len(inter), len(watched_animes)) != 0:  \n",
    "        res_intersection = len(inter.intersection(watched_animes)) * 1.0 / min(len(inter), len(watched_animes))\n",
    "    else: \n",
    "        res_intersection = 0.0\n",
    "        \n",
    "    user_results = user_results.append({'user_id': user_id, 'res_cb': res_cb, 'res_cf':res_cf, 'res_union':res_union, 'res_inter':res_intersection}, ignore_index=True)\n",
    "\n",
    "user_results.loc[user_results['res_cb'] >  3]"
   ]
  },
  {
   "cell_type": "code",
   "execution_count": 52,
   "metadata": {
    "collapsed": false
   },
   "outputs": [
    {
     "data": {
      "text/plain": [
       "[120, 249, 317, 1535]"
      ]
     },
     "execution_count": 52,
     "metadata": {},
     "output_type": "execute_result"
    }
   ],
   "source": [
    "test_rating['anime_id'][test_rating['user_id'] == 32].astype(int).tolist()"
   ]
  },
  {
   "cell_type": "code",
   "execution_count": null,
   "metadata": {
    "collapsed": false
   },
   "outputs": [],
   "source": [
    "abc = pd.DataFrame(index=[\"user_id\", \"cf\", \"cb\", \"union\", \"intersection\"])"
   ]
  },
  {
   "cell_type": "code",
   "execution_count": 83,
   "metadata": {
    "collapsed": false
   },
   "outputs": [
    {
     "data": {
      "text/plain": [
       "0.14005513690721097"
      ]
     },
     "execution_count": 83,
     "metadata": {},
     "output_type": "execute_result"
    }
   ],
   "source": [
    "user_results['res_union'].sum() / len(user_results['res_union'])"
   ]
  },
  {
   "cell_type": "code",
   "execution_count": 71,
   "metadata": {
    "collapsed": false
   },
   "outputs": [
    {
     "data": {
      "text/html": [
       "<div>\n",
       "<table border=\"1\" class=\"dataframe\">\n",
       "  <thead>\n",
       "    <tr style=\"text-align: right;\">\n",
       "      <th></th>\n",
       "      <th>user_id</th>\n",
       "      <th>res_cb</th>\n",
       "      <th>res_cf</th>\n",
       "      <th>res_union</th>\n",
       "      <th>res_inter</th>\n",
       "    </tr>\n",
       "  </thead>\n",
       "  <tbody>\n",
       "    <tr>\n",
       "      <th>12</th>\n",
       "      <td>32.0</td>\n",
       "      <td>1.0</td>\n",
       "      <td>0.0</td>\n",
       "      <td>0.25</td>\n",
       "      <td>0.0</td>\n",
       "    </tr>\n",
       "  </tbody>\n",
       "</table>\n",
       "</div>"
      ],
      "text/plain": [
       "    user_id  res_cb  res_cf  res_union  res_inter\n",
       "12     32.0     1.0     0.0       0.25        0.0"
      ]
     },
     "execution_count": 71,
     "metadata": {},
     "output_type": "execute_result"
    }
   ],
   "source": [
    "user_results.loc[user_results['user_id'] == 32]"
   ]
  },
  {
   "cell_type": "code",
   "execution_count": 95,
   "metadata": {
    "collapsed": false
   },
   "outputs": [
    {
     "data": {
      "image/png": "[encoded data removed]",
      "text/plain": [
       "<matplotlib.figure.Figure at 0x151426d8>"
      ]
     },
     "metadata": {},
     "output_type": "display_data"
    }
   ],
   "source": [
    "user_results['res_union'].plot(kind=\"hist\",bins=10)\n",
    "plt.show()"
   ]
  },
  {
   "cell_type": "code",
   "execution_count": null,
   "metadata": {
    "collapsed": true
   },
   "outputs": [],
   "source": []
  }
 ],
 "metadata": {
  "kernelspec": {
   "display_name": "Python 2",
   "language": "python",
   "name": "python2"
  },
  "language_info": {
   "codemirror_mode": {
    "name": "ipython",
    "version": 2
   },
   "file_extension": ".py",
   "mimetype": "text/x-python",
   "name": "python",
   "nbconvert_exporter": "python",
   "pygments_lexer": "ipython2",
   "version": "2.7.13"
  }
 },
 "nbformat": 4,
 "nbformat_minor": 2
}
