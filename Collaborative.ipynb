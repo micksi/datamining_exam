{
 "cells": [
  {
   "cell_type": "code",
   "execution_count": 18,
   "metadata": {
    "collapsed": true
   },
   "outputs": [],
   "source": [
    "import sys\n",
    "import pandas as pd\n",
    "import csv\n",
    "from sklearn import preprocessing\n",
    "from sklearn.neighbors import NearestNeighbors\n",
    "import Orange\n",
    "\n",
    "def get_user_profile(user_id, df_rating, df_a_fatures):\n",
    "    df_user = df_rating.loc[df_rating['user_id'] == user_id]\n",
    "    df_merged = pd.merge(df_user, df_a_fatures, how='left', left_on='anime_id', right_on='anime_id').drop(['anime_id', 'rating'], axis=1)\n",
    "    \n",
    "    # Count only 1's\n",
    "    df_user_sum = df_merged.apply(pd.Series.value_counts).loc[df_merged.index == 1]\n",
    "    df_user_sum.fillna(0, inplace = True)\n",
    "    df_user_sum.user_id = user_id\n",
    "    return df_user_sum\n",
    "#\n",
    "def get_user_profiles(df_animes_vector, df_rating):\n",
    "    # first n users\n",
    "    n_users = 50\n",
    "    users = list(df_rating['user_id'].unique())[:n_users] \n",
    "\n",
    "    # Create user profiles:\n",
    "    df_user_profiles = pd.DataFrame()\n",
    "    for u in users:\n",
    "        u_prof = get_user_profile(u, df_rating, df_animes_vector)\n",
    "        df_user_profiles = df_user_profiles.append(u_prof, ignore_index = True)\n",
    "    return df_user_profiles\n",
    "#\n",
    "def normalize(df_user_profiles):\n",
    "    x = df_user_profiles.iloc[:,1:].values #returns a numpy array\n",
    "    min_max_scaler = preprocessing.MinMaxScaler()\n",
    "    x_scaled = min_max_scaler.fit_transform(x.T)\n",
    "    df_user_profiles = pd.concat([df_user_profiles['user_id'], pd.DataFrame(x_scaled.T, columns=df_user_profiles.columns[1:])], axis=1)\n",
    "    return df_user_profiles\n",
    "#\n",
    "def get_userids_by_indices(indices, df_user_prof_norm):\n",
    "    users = []\n",
    "    for i in indices:\n",
    "       uid = df_user_prof_norm.loc[i]['user_id']\n",
    "       users.append(uid)\n",
    "    return users    \n",
    "#\n",
    "\n"
   ]
  },
  {
   "cell_type": "code",
   "execution_count": 19,
   "metadata": {
    "collapsed": false
   },
   "outputs": [],
   "source": [
    "file_anime = \"raw/anime.csv\"\n",
    "file_rating = \"raw/rating.csv\"\n",
    "\n",
    "df_rating = pd.read_csv(file_rating)\n",
    "df_animes = pd.read_csv(file_anime)\n",
    "df_animes_genres = pd.get_dummies(df_animes['genre'].str.get_dummies(sep=\", \")) # creates genre vectors\n",
    "df_animes_vector = pd.concat([df_animes['anime_id'], df_animes_genres], axis=1) # anime_id + genre vector\n",
    "\n",
    "# Get user profiles; then normalize \n",
    "df_user_profiles = get_user_profiles(df_animes_vector, df_rating)\n",
    "df_user_prof_norm = normalize(df_user_profiles)"
   ]
  },
  {
   "cell_type": "code",
   "execution_count": 24,
   "metadata": {
    "collapsed": false
   },
   "outputs": [
    {
     "name": "stdout",
     "output_type": "stream",
     "text": [
      "[3.0, 50.0, 34.0, 4.0, 43.0, 33.0, 29.0, 38.0, 10.0, 44.0, 23.0]\n"
     ]
    }
   ],
   "source": [
    "# find closest k user profiles\n",
    "k = 11\n",
    "nbrs = NearestNeighbors(n_neighbors=k, algorithm='ball_tree').fit(df_user_prof_norm.iloc[:,1:])\n",
    "user_id = 3\n",
    "user_prof = df_user_prof_norm[df_user_prof_norm['user_id'] == user_id]\n",
    "user_prof = user_prof.drop('user_id', axis=1)\n",
    "\n",
    "# Get closest neighbours\n",
    "distances, indices = nbrs.kneighbors(user_prof)\n",
    "\n",
    "# get user_ids\n",
    "uids = get_userids_by_indices(indices[0], df_user_prof_norm)\n",
    "print uids"
   ]
  },
  {
   "cell_type": "code",
   "execution_count": 25,
   "metadata": {
    "collapsed": false
   },
   "outputs": [],
   "source": [
    "u_animes = []\n",
    "for uid in uids:\n",
    "    u_animes.append(df_rating[df_rating['user_id'] == uid]['anime_id'].tolist())\n",
    "with open('anime_trans.basket', 'wb') as csvfile:\n",
    "    writer = csv.writer(csvfile)\n",
    "    writer.writerows(u_animes)"
   ]
  },
  {
   "cell_type": "code",
   "execution_count": 27,
   "metadata": {
    "collapsed": false,
    "scrolled": true
   },
   "outputs": [
    {
     "name": "stdout",
     "output_type": "stream",
     "text": [
      "['269', '121', '10087', '1575', '2001']\n"
     ]
    }
   ],
   "source": [
    "# !!!!! Get the transactions directly from the list, not from the .basket file !!!!!\n",
    "\n",
    "# Get all training transactions\n",
    "\n",
    "data = Orange.data.Table(\"anime_trans.basket\") #Orange.data.Table(\"anime_trans.basket\")\n",
    "\n",
    "# This is the user we would like to recommend something for\n",
    "target_user = data[0]\n",
    "target_user_animes = data[0].get_metas(str).keys()\n",
    "\n",
    "# Drop the user's data from the transactions list\n",
    "data = data.get_items(range(1,len(data)))\n",
    "\n",
    "# Generate recommendation rules\n",
    "\n",
    "rules = Orange.associate.AssociationRulesSparseInducer(data, support = 0.5, confidence = 0.7,\n",
    "                                                       max_item_sets = 100000)\n",
    "\n",
    "# print \"%4s\\t %4s  %s %s\" % (\"AnimeId\", \"Lift\", \"Support\", \"Conf\")\n",
    "\n",
    "recommendations = {}\n",
    "for r in rules:\n",
    "    \n",
    "    # Compare the generated rules with a specific instance from the transactions list\n",
    "    if(r.n_right==1):\n",
    "        recommendation = str(r.right.get_metas(str).keys()[0])\n",
    "        if recommendation not in target_user_animes:\n",
    "            if r.applies_left(target_user):\n",
    "                try:\n",
    "                    recommendations[r.n_left].append(r)\n",
    "                except:\n",
    "                    recommendations[r.n_left] = []\n",
    "                    recommendations[r.n_left].append(r)\n",
    "                # print \"%4.2f %4.4f %s %s\" % (r.support, r.confidence, r, r.lift)\n",
    "\n",
    "user_recommendations = []\n",
    "for i, r in recommendations.iteritems():\n",
    "    recommendations[i].sort(key=lambda x: (x.lift, x.support, x.confidence), reverse=True)\n",
    "    \n",
    "for recommendation_length in sorted(recommendations.keys(), reverse=True):\n",
    "    if len(user_recommendations) == 10:\n",
    "        break\n",
    "    for recommendation in recommendations[recommendation_length]:\n",
    "        anime_id = str(recommendation.right.get_metas(str).keys()[0])\n",
    "#         print recommendation\n",
    "#         print anime_id, \"\\t\", recommendation.lift, recommendation.support, recommendation.confidence\n",
    "        if anime_id not in user_recommendations:\n",
    "            user_recommendations.append(anime_id)\n",
    "        if len(user_recommendations) == 10:\n",
    "            break\n",
    "print user_recommendations\n",
    "# Orange.associate.AssociationRulesSparseInducer.get_itemsets(rules)"
   ]
  },
  {
   "cell_type": "code",
   "execution_count": 28,
   "metadata": {
    "collapsed": false
   },
   "outputs": [
    {
     "data": {
      "text/plain": [
       "[], {\"20\":1.000, \"154\":1.000, \"170\":1.000, \"199\":1.000, \"225\":1.000, \"341\":1.000, \"430\":1.000, \"527\":1.000, \"552\":1.000, \"813\":1.000, \"1119\":1.000, \"1121\":1.000, \"1122\":1.000, \"1132\":1.000, \"1292\":1.000, \"1313\":1.000, \"1526\":1.000, \"1535\":1.000, \"1564\":1.000, \"1689\":1.000, \"1764\":1.000, \"1943\":1.000, \"2201\":1.000, \"2404\":1.000, \"2847\":1.000, \"3588\":1.000, \"4026\":1.000, \"5114\":1.000, \"5231\":1.000, \"6178\":1.000, \"6702\":1.000, \"6880\":1.000, \"7695\":1.000, \"8074\":1.000, \"9107\":1.000, \"9135\":1.000, \"9760\":1.000, \"9917\":1.000, \"9919\":1.000, \"9989\":1.000, \"10408\":1.000, \"10507\":1.000, \"11111\":1.000, \"11703\":1.000, \"11737\":1.000, \"11757\":1.000, \"11759\":1.000, \"11771\":1.000, \"12671\":1.000, \"14075\":1.000, \"14093\":1.000, \"14345\":1.000, \"14513\":1.000, \"16498\":1.000, \"16512\":1.000, \"16782\":1.000, \"16894\":1.000, \"16918\":1.000, \"17265\":1.000, \"18097\":1.000, \"18115\":1.000, \"18393\":1.000, \"19315\":1.000, \"19815\":1.000, \"20021\":1.000, \"20159\":1.000, \"20507\":1.000, \"20583\":1.000, \"21507\":1.000, \"21881\":1.000, \"22199\":1.000, \"22297\":1.000, \"22319\":1.000, \"22547\":1.000, \"22729\":1.000, \"23301\":1.000, \"23321\":1.000, \"23333\":1.000, \"23755\":1.000, \"24415\":1.000, \"26243\":1.000, \"27631\":1.000, \"27899\":1.000, \"28121\":1.000, \"28171\":1.000, \"28223\":1.000, \"28497\":1.000, \"28701\":1.000, \"28891\":1.000, \"29854\":1.000, \"30276\":1.000, \"30503\":1.000, \"31043\":1.000, \"31859\":1.000}"
      ]
     },
     "execution_count": 28,
     "metadata": {},
     "output_type": "execute_result"
    }
   ],
   "source": [
    "target_user"
   ]
  },
  {
   "cell_type": "code",
   "execution_count": null,
   "metadata": {
    "collapsed": true
   },
   "outputs": [],
   "source": [
    "for anime in uids:\n",
    "    "
   ]
  }
 ],
 "metadata": {
  "kernelspec": {
   "display_name": "Python 2",
   "language": "python",
   "name": "python2"
  },
  "language_info": {
   "codemirror_mode": {
    "name": "ipython",
    "version": 2
   },
   "file_extension": ".py",
   "mimetype": "text/x-python",
   "name": "python",
   "nbconvert_exporter": "python",
   "pygments_lexer": "ipython2",
   "version": "2.7.13"
  }
 },
 "nbformat": 4,
 "nbformat_minor": 2
}
